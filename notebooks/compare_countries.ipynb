{
 "cells": [
  {
   "cell_type": "code",
   "execution_count": null,
   "id": "fe37aa7a",
   "metadata": {
    "vscode": {
     "languageId": "plaintext"
    }
   },
   "outputs": [],
   "source": [
    "import pandas as pd\n",
    "import matplotlib.pyplot as plt\n",
    "import seaborn as sns\n",
    "from scipy.stats import kruskal\n",
    "import os\n",
    "\n",
    "# Load cleaned data\n",
    "benin = pd.read_csv('data/benin_clean.csv')\n",
    "togo = pd.read_csv('data/togo_clean.csv')\n",
    "sierraleone = pd.read_csv('data/sierraleone_clean.csv')\n",
    "\n",
    "# Boxplots\n",
    "plt.figure(figsize=(12, 6))\n",
    "for i, metric in enumerate(['GHI', 'DNI', 'DHI'], 1):\n",
    "    plt.subplot(1, 3, i)\n",
    "    data = pd.concat([\n",
    "        benin[metric].rename('Benin'),\n",
    "        togo[metric].rename('Togo'),\n",
    "        sierraleone[metric].rename('Sierra Leone')\n",
    "    ], axis=1)\n",
    "    sns.boxplot(data=data)\n",
    "    plt.title(f'{metric} Comparison')\n",
    "plt.tight_layout()\n",
    "plt.savefig('plots/comparison_boxplots.png')\n",
    "plt.close()\n",
    "\n",
    "# Summary Table\n",
    "summary = pd.DataFrame({\n",
    "    'Metric': ['GHI', 'DNI', 'DHI'],\n",
    "    'Benin_Mean': [benin['GHI'].mean(), benin['DNI'].mean(), benin['DHI'].mean()],\n",
    "    'Benin_Median': [benin['GHI'].median(), benin['DNI'].median(), benin['DHI'].median()],\n",
    "    'Benin_SD': [benin['GHI'].std(), benin['DNI'].std(), benin['DHI'].std()],\n",
    "    'Togo_Mean': [togo['GHI'].mean(), togo['DNI'].mean(), togo['DHI'].mean()],\n",
    "    'Togo_Median': [togo['GHI'].median(), togo['DNI'].median(), togo['DHI'].median()],\n",
    "    'Togo_SD': [togo['GHI'].std(), togo['DNI'].std(), togo['DHI'].std()],\n",
    "    'SierraLeone_Mean': [sierraleone['GHI'].mean(), sierraleone['DNI'].mean(), sierraleone['DHI'].mean()],\n",
    "    'SierraLeone_Median': [sierraleone['GHI'].median(), sierraleone['DNI'].median(), sierraleone['DHI'].median()],\n",
    "    'SierraLeone_SD': [sierraleone['GHI'].std(), sierraleone['DNI'].std(), sierraleone['DHI'].std()]\n",
    "})\n",
    "summary.to_csv('data/comparison_summary.csv', index=False)\n",
    "\n",
    "# Statistical Testing\n",
    "ghi_stat, ghi_p = kruskal(benin['GHI'], togo['GHI'], sierraleone['GHI'])\n",
    "print(f\"Kruskal-Wallis GHI p-value: {ghi_p}\")\n",
    "\n",
    "# Bar Chart\n",
    "mean_ghi = pd.DataFrame({\n",
    "    'Country': ['Benin', 'Togo', 'Sierra Leone'],\n",
    "    'Mean_GHI': [benin['GHI'].mean(), togo['GHI'].mean(), sierraleone['GHI'].mean()]\n",
    "})\n",
    "sns.barplot(x='Country', y='Mean_GHI', data=mean_ghi)\n",
    "plt.title('Average GHI by Country')\n",
    "plt.savefig('plots/ghi_ranking.png')\n",
    "plt.close()\n",
    "\n",
    "# Key Observations\n",
    "print(\"\"\"\n",
    "### Key Observations\n",
    "- Benin shows the highest median GHI but with moderate variability, suggesting stable solar potential.\n",
    "- Togo has lower GHI but less variability, indicating consistent but less intense solar resources.\n",
    "- Sierra Leone exhibits the highest variability in GHI, likely due to climatic factors, but has competitive mean values.\n",
    "\"\"\")"
   ]
  }
 ],
 "metadata": {
  "language_info": {
   "name": "python"
  }
 },
 "nbformat": 4,
 "nbformat_minor": 5
}
